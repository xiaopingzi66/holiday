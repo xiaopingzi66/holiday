{
 "cells": [
  {
   "cell_type": "markdown",
   "metadata": {},
   "source": [
    "正则表达式\n",
    "正则表达式是一个特殊的字符序列，它能帮助你方便的检查一个字符串是否与某种模式匹配。\n",
    "re 模块使 Python 语言拥有全部的正则表达式功能。\n",
    "compile 函数根据一个模式字符串和可选的标志参数生成一个正则表达式对象。该对象拥有一系列方法用于正则表达式匹配和替换。\n",
    "re 模块也提供了与这些方法功能完全一致的函数，这些函数使用一个模式字符串做为它们的第一个参数。"
   ]
  },
  {
   "cell_type": "code",
   "execution_count": null,
   "metadata": {},
   "outputs": [],
   "source": [
    "re.match(pattern, string, flags=0)#re.match 尝试从字符串的起始位置匹配一个模式，如果不是起始位置匹配成功的话，match()就返回none。\n",
    "pattern：匹配的正则表达式\n",
    "string：要匹配的字符串。\n",
    "flags：标志位，用于控制正则表达式的匹配方式，如：是否区分大小写，多行匹配等等。#资料来源：http://www.runoob.com/python/python-reg-\n",
    "#expressions.html"
   ]
  },
  {
   "cell_type": "markdown",
   "metadata": {},
   "source": [
    "Python OS 文件/目录方法"
   ]
  },
  {
   "cell_type": "markdown",
   "metadata": {},
   "source": [
    "datetime模块\n",
    "datetime模块中包含如下类：\n",
    "date\t        日期对象,常用的属性有year, month, day\n",
    "time\t        时间对象\n",
    "datetime\t    日期时间对象,常用的属性有hour, minute, second, microsecond\n",
    "datetime_CAPI\t日期时间对象C语言接口\n",
    "timedelta\t    时间间隔，即两个时间点之间的长度\n",
    "\n",
    "datetime模块中包含的常量：\n",
    "常量\t    功能说明\t                用法\t        返回值\n",
    "MAXYEAR\t返回能表示的最大年份\tdatetime.MAXYEAR\t9999\n",
    "MINYEAR\t返回能表示的最小年份\tdatetime.MINYEAR\t1\n",
    "datetime(year, month, day[, hour[, minute[, second[, microsecond[,tzinfo]]]]])\n",
    ">>> a = datetime.datetime.now()\n",
    ">>> a\n",
    "datetime.datetime(2017, 3, 22, 16, 9, 33, 494248)\n",
    ">>> a.date()\n",
    "datetime.date(2017, 3, 22)\n",
    "\n",
    ">>> a = datetime.datetime.now()\n",
    ">>> a\n",
    "datetime.datetime(2017, 3, 22, 16, 9, 33, 494248)\n",
    ">>> a.time()\n",
    "datetime.time(16, 9, 33, 494248)"
   ]
  },
  {
   "cell_type": "markdown",
   "metadata": {},
   "source": [
    "http请求\n",
    "根据HTTP标准，HTTP请求可以使用多种请求方法。\n",
    "\n",
    "HTTP1.0定义了三种请求方法： GET, POST 和 HEAD方法。\n",
    "\n",
    "HTTP1.1新增了五种请求方法：OPTIONS, PUT, DELETE, TRACE 和 CONNECT 方法。\n",
    "GET\t     请求指定的页面信息，并返回实体主体。\n",
    "HEAD     类似于get请求，只不过返回的响应中没有具体的内容，用于获取报头\n",
    "POST     向指定资源提交数据进行处理请求（例如提交表单或者上传文件）。数据被包含在请求体中。POST请求可能会导致新的资源的建立和/或已有资源的修改。\n",
    "PUT\t     从客户端向服务器传送的数据取代指定的文档的内容。\n",
    "DELETE\t 请求服务器删除指定的页面。\n",
    "CONNECT  HTTP/1.1协议中预留给能够将连接改为管道方式的代理服务器。\n",
    "OPTIONS\t 允许客户端查看服务器的性能。\n",
    "TRACE\t 回显服务器收到的请求，主要用于测试或诊断。"
   ]
  },
  {
   "cell_type": "code",
   "execution_count": null,
   "metadata": {},
   "outputs": [],
   "source": [
    "#作业\n",
    "import time\n",
    "import sys\n",
    "def dateinput():\n",
    "    date = input(\"请您输入一个时间（格式例如：2000-00-00): \")\n",
    "    return date\n",
    "\n",
    "def datetrans(tdate):\n",
    "    spdate = tdate.replace(\"/\",\"-\")\n",
    "    try:\n",
    "        datesec = time.strptime(spdate,'%Y-%m-%d')\n",
    "    except ValueError:\n",
    "        print (\"%s is not a rightful date!!\" % tdate)\n",
    "        sys.exit(1)\n",
    "    return time.mktime(datesec)\n",
    "\n",
    "def daysdiff(d1,d2):\n",
    "    daysec = 24 * 60 * 60\n",
    "    return int(( d1 - d2 )/daysec)\n",
    "date1 = dateinput()\n",
    "date2 = dateinput()\n",
    "date1sec = datetrans(date1)\n",
    "date2sec = datetrans(date2)\n",
    "\n",
    "a=abs(date1sec-date2sec)/(60)\n",
    "b=a/60\n",
    "c=abs(date1sec-date2sec)\n",
    "print(\"这两个时间之间相差: \",abs(daysdiff(date1sec,date2sec)),\"天\",\"\\n相差\",a,\"分钟，\",\"\\n相差\",b,\"小时\",\"\\n相差\",c,\"秒\")\n",
    "\n",
    "#\n",
    "import re\n",
    "email=input(\"请输入你的邮箱：\")\n",
    "if len(email) > 7:\n",
    "    if re.match(\"r'^[0-9a-zA-Z\\_\\-]+(\\.[0-9a-zA-Z\\_\\-]+)*@[0-9a-zA-Z]+(\\.[0-9a-zA-Z]+){1,}$'\", email) != None:#来源https://blog.csdn.net/mashijia986/article\n",
    "        #/details/79118536\n",
    "        print(\"你的邮箱符合要求\")\n",
    "    else:\n",
    "         print(\"你输入的邮箱不正确！\")\n",
    " "
   ]
  }
 ],
 "metadata": {
  "kernelspec": {
   "display_name": "Python 3",
   "language": "python",
   "name": "python3"
  },
  "language_info": {
   "codemirror_mode": {
    "name": "ipython",
    "version": 3
   },
   "file_extension": ".py",
   "mimetype": "text/x-python",
   "name": "python",
   "nbconvert_exporter": "python",
   "pygments_lexer": "ipython3",
   "version": "3.7.1"
  }
 },
 "nbformat": 4,
 "nbformat_minor": 2
}
