{
 "cells": [
  {
   "cell_type": "code",
   "execution_count": null,
   "metadata": {},
   "outputs": [],
   "source": [
    "#函数关键字和函数的定义   \n",
    "❶ def greet_user():\n",
    "❷ \"\"\"显示简单的问候语\"\"\"\n",
    "❸ print(\"Hello!\")\n",
    "❹ greet_user()\n",
    "#这个示例演示了最简单的函数结构。❶处的代码行使用关键字def 来告诉Python你要定义一个函数。这是函数定义 ，向Python指出了函数名，\n",
    "\n",
    "\n",
    "#还可能在括号内指出函数为完成其任务需要什么样的信息。在这里，函数名为greet_user() ，它不需要任何信息就能完成其工作，因此括号是空的\n",
    "#（即便如此，括号也必不可少）。最后，定义以冒号结尾。\n",
    "\n",
    "\n",
    "#紧跟在def greet_user(): 后面的所有缩进行构成了函数体。❷处的文本是被称为文档字符串 （docstring）的注释，描述了函数是做什么的。\n",
    "#文档字符串用三引号括起，Python使用它们来生成有关程序中函数的文档。\n",
    "\n",
    "\n",
    "#代码行print(\"Hello!\") （见❸）是函数体内的唯一一行代码，greet_user() 只做一项工作：打印Hello! 。\n",
    "\n",
    "\n",
    "#要使用这个函数，可调用它。函数调用 让Python执行函数的代码。要调用 函数，可依次指定函数名以及用括号括起的必要信息，如❹处所示。\n",
    "#由于这个函数不需要任何信息，因此调用它时只需输入greet_user() 即可。和预期的一样，它打印Hello!\n"
   ]
  },
  {
   "cell_type": "markdown",
   "metadata": {},
   "source": [
    "函数参数与作用域  \n",
    "\n",
    "\n",
    "实参和形参  "
   ]
  },
  {
   "cell_type": "code",
   "execution_count": null,
   "metadata": {},
   "outputs": [],
   "source": [
    "def greet_user(username):\n",
    "    \"\"\"显示简单的问候语\"\"\"\n",
    "    print(\"Hello, \" + username.title() + \"!\")\n",
    "greet_user('jesse')\n",
    "#在函数greet_user() 的定义中，变量username 是一个形参 ——函数完成其工作所需的一项信息。在代码greet_user('jesse') 中，值'jesse' 是一个实参 。\n",
    "#实参是调用函数时传递给函数的信息。"
   ]
  },
  {
   "cell_type": "markdown",
   "metadata": {},
   "source": [
    "位置实参和关键字实参"
   ]
  },
  {
   "cell_type": "code",
   "execution_count": null,
   "metadata": {},
   "outputs": [],
   "source": [
    "def describe_pet(animal_type, pet_name):\n",
    "    \"\"\"显示宠物的信息\"\"\"\n",
    "    print(\"\\nI have a \" + animal_type + \".\")\n",
    "    print(\"My \" + animal_type + \"'s name is \" + pet_name.title() + \".\")\n",
    "describe_pet('hamster', 'harry')\n",
    "#你调用函数时，Python必须将函数调用中的每个实参都关联到函数定义中的一个形参。为此，最简单的关联方式是基于实参的顺序。\n",
    "#这种关联方式被称为位置实参 。"
   ]
  },
  {
   "cell_type": "code",
   "execution_count": null,
   "metadata": {},
   "outputs": [],
   "source": [
    "def describe_pet(animal_type, pet_name):\n",
    "    \"\"\"显示宠物的信息\"\"\"\n",
    "    print(\"\\nI have a \" + animal_type + \".\")\n",
    "    print(\"My \" + animal_type + \"'s name is \" + pet_name.title() + \".\")\n",
    "describe_pet(animal_type='hamster', pet_name='harry')\n",
    "#关键字实参 是传递给函数的名称—值对。你直接在实参中将名称和值关联起来了，因此向函数传递实参时不会混淆（不会得到名为Hamster的harry这样的结果）。\n",
    "#关键字实参让你无需考虑函数调用中的实参顺序，还清楚地指出了函数调用中各个值的用途。"
   ]
  },
  {
   "cell_type": "markdown",
   "metadata": {},
   "source": [
    "函数返回值  \n",
    "\n",
    "函数并非总是直接显示输出，相反，它可以处理一些数据，并返回一个或一组值。函数返回的值被称为返回值 。\n",
    "在函数中，可使用return 语句将值返回到调用函数的代码行。"
   ]
  },
  {
   "cell_type": "code",
   "execution_count": null,
   "metadata": {},
   "outputs": [],
   "source": [
    "❶ def get_formatted_name(first_name, last_name):\n",
    "    \"\"\"返回整洁的姓名\"\"\"\n",
    "❷   full_name = first_name + ' ' + last_name\n",
    "❸   return full_name.title()\n",
    "\n",
    "❹ musician = get_formatted_name('jimi', 'hendrix')\n",
    "  print(musician)"
   ]
  },
  {
   "cell_type": "markdown",
   "metadata": {},
   "source": [
    "函数get_formatted_name() 的定义通过形参接受名和姓（见❶）。它将姓和名合而为一，在它们之间加上一个空格，并将结果存储在变量full_name 中（见❷）。然后，将full_name 的值转换为首字母大写格式，并将结果返回到函数调用行（见❸）。  \n",
    "\n",
    "调用返回值的函数时，需要提供一个变量，用于存储返回的值。在这里，将返回值存储在了变量musician 中（见❹）。输出为整洁的姓名"
   ]
  },
  {
   "cell_type": "code",
   "execution_count": null,
   "metadata": {},
   "outputs": [],
   "source": [
    "#作业1\n",
    "import random\n",
    "\n",
    "list = [1, 2, 3, 4, 5, 6, 7, 8, 9, 10]\n",
    "for i in range(3):\n",
    "    slice = random.sample(list, 5)  # 从list中随机获取5个元素，作为一个片断返回\n",
    "    print(slice)\n",
    "    print(list, '\\n')  # 原有序列并没有改变"
   ]
  },
  {
   "cell_type": "code",
   "execution_count": 4,
   "metadata": {},
   "outputs": [
    {
     "name": "stdout",
     "output_type": "stream",
     "text": [
      "请输入一个数:1\n",
      "请输入一个数:2\n",
      "请输入一个数:3\n",
      "3\n"
     ]
    }
   ],
   "source": [
    "#作业2\n",
    "def max(a,b,c):\n",
    "    if a>b:\n",
    "        max_num=a\n",
    "    else:\n",
    "        max_num=b\n",
    "    if c>max_num:\n",
    "        max_num=c\n",
    "    return max_num\n",
    "a1=input(\"请输入一个数:\")\n",
    "b1=input(\"请输入一个数:\")\n",
    "c1=a1=input(\"请输入一个数:\")\n",
    "max_num = max(a1,b1,c1)\n",
    "print(max_num)"
   ]
  },
  {
   "cell_type": "code",
   "execution_count": null,
   "metadata": {},
   "outputs": [],
   "source": [
    "#作业3\n",
    "def comparison(a,b):\n",
    "    a=str(m)\n",
    "    b=str(n)\n",
    "    if a==b:\n",
    "        print('a 和 b 是相等的')\n",
    "        \n",
    "    else:\n",
    "        print('a和 b 是不相等的')\n",
    "\n",
    "m = input(\"请你输入第一个字符串：\")\n",
    "n = input(\"请你输入第二个字符串：\")\n",
    "comparison(m,n)\n"
   ]
  }
 ],
 "metadata": {
  "kernelspec": {
   "display_name": "Python 3",
   "language": "python",
   "name": "python3"
  },
  "language_info": {
   "codemirror_mode": {
    "name": "ipython",
    "version": 3
   },
   "file_extension": ".py",
   "mimetype": "text/x-python",
   "name": "python",
   "nbconvert_exporter": "python",
   "pygments_lexer": "ipython3",
   "version": "3.7.1"
  }
 },
 "nbformat": 4,
 "nbformat_minor": 2
}
