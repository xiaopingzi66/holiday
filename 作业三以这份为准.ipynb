{
 "cells": [
  {
   "cell_type": "markdown",
   "metadata": {},
   "source": [
    "dict字典\n",
    "定义：在Python中，字典是一系列键—值对 。每个键都与一个值相关联，你可以使用键来访问与之相关联的值。与键相关联的值可以是数字、字符串、列表乃至字典。事实上，可将任何Python对象用作字典中的值。"
   ]
  },
  {
   "cell_type": "code",
   "execution_count": 3,
   "metadata": {},
   "outputs": [
    {
     "name": "stdout",
     "output_type": "stream",
     "text": [
      "yellow\n"
     ]
    }
   ],
   "source": [
    "#创建一个字典\n",
    "fruit_colours={'lemon':'yellow','grape':'purple','watermelon':'green'}\n",
    "#输出字典中的值\n",
    "print(fruit_colours['lemon'])"
   ]
  },
  {
   "cell_type": "markdown",
   "metadata": {},
   "source": [
    "字典的相关方法\n",
    "遍历字典\n"
   ]
  },
  {
   "cell_type": "code",
   "execution_count": 6,
   "metadata": {},
   "outputs": [
    {
     "name": "stdout",
     "output_type": "stream",
     "text": [
      "Lemon's colour is Yellow.\n",
      "Grape's colour is Purple.\n",
      "Watermelon's colour is Green.\n"
     ]
    }
   ],
   "source": [
    "#遍历字典中的所有键-值\n",
    "fruit_colours={'lemon':'yellow','grape':'purple','watermelon':'green'}\n",
    "for fruit,colour in fruit_colours.items():\n",
    "    print(fruit.title()+\"'s colour is \"+ colour.title()+\".\")"
   ]
  },
  {
   "cell_type": "code",
   "execution_count": 12,
   "metadata": {},
   "outputs": [
    {
     "name": "stdout",
     "output_type": "stream",
     "text": [
      "Lemon\n",
      "Grape\n",
      "Watermelon\n"
     ]
    }
   ],
   "source": [
    "#遍历字典中的所有键\n",
    "fruit_colours={'lemon':'yellow','grape':'purple','watermelon':'green'}\n",
    "for fruit in fruit_colours.keys():\n",
    "    print(fruit.title())"
   ]
  },
  {
   "cell_type": "code",
   "execution_count": 9,
   "metadata": {},
   "outputs": [
    {
     "name": "stdout",
     "output_type": "stream",
     "text": [
      "Yellow\n",
      "Purple\n",
      "Green\n"
     ]
    }
   ],
   "source": [
    "#遍历字典中的所有值\n",
    "fruit_colours={'lemon':'yellow','grape':'purple','watermelon':'green'}\n",
    "for colour in fruit_colours.values():\n",
    "    print(colour.title())\n"
   ]
  },
  {
   "cell_type": "markdown",
   "metadata": {},
   "source": [
    "嵌套\n",
    "有时候，需要将一系列字典存储在列表中，或将列表作为值存储在字典中，这称为嵌套"
   ]
  },
  {
   "cell_type": "markdown",
   "metadata": {},
   "source": [
    "set集合\n",
    "定义：set是一个无序且不重复的元素集合。\n",
    "集合对象是一组无序排列的可哈希的值，集合成员可以做字典中的键。集合支持用in和not in操作符检查成员，由len()内建函数得到集合的基数(大小)， 用 for 循环迭代集合的成员。但是因为集合本身是无序的，不可以为集合创建索引或执行切片(slice)操作，也没有键(keys)可用来获取集合中元素的值。\n",
    "\n",
    "set和dict一样，只是没有value，相当于dict的key集合，由于dict的key是不重复的，且key是不可变对象因此set也有如下特性：\n",
    "1、不重复\n",
    "2、元素为不可变对象"
   ]
  },
  {
   "cell_type": "code",
   "execution_count": 10,
   "metadata": {},
   "outputs": [
    {
     "name": "stdout",
     "output_type": "stream",
     "text": [
      "{'o', 'b', 'y'} <class 'set'>\n",
      "{'y', 'b', 'o'} <class 'set'>\n",
      "{'k2', 'k1'} <class 'set'>\n",
      "{'k2', 'k1'} <class 'set'>\n",
      "{('k1', 'k2', 'k2')} <class 'set'>\n"
     ]
    }
   ],
   "source": [
    "#创建\n",
    "#注意在创建空集合的时候只能使用s=set()，因为s={}创建的是空字典\n",
    "s = set()\n",
    "s = {11,22,33,44}\n",
    "a=set('boy')\n",
    "b=set(['y', 'b', 'o','o'])\n",
    "c=set({\"k1\":'v1','k2':'v2'})\n",
    "d={'k1','k2','k2'}\n",
    "e={('k1', 'k2','k2')}\n",
    "print(a,type(a))\n",
    "print(b,type(b))\n",
    "print(c,type(c))\n",
    "print(d,type(d))\n",
    "print(e,type(e))"
   ]
  },
  {
   "cell_type": "markdown",
   "metadata": {},
   "source": [
    "相关方法"
   ]
  },
  {
   "cell_type": "code",
   "execution_count": 11,
   "metadata": {},
   "outputs": [
    {
     "name": "stdout",
     "output_type": "stream",
     "text": [
      "{33, 11}\n",
      "{33, 11, 22}\n",
      "None\n",
      "{33, 11}\n"
     ]
    }
   ],
   "source": [
    "#比较\n",
    "se = {11, 22, 33}\n",
    "be = {22, 55}\n",
    "#找到se中存在，be中不存在的集合，返回新值\n",
    "temp1 = se.difference(be)\n",
    "print(temp1) #{33, 11}\n",
    "print(se)    #{33, 11, 22} \n",
    "\n",
    "#找到se中存在，be中不存在的集合，覆盖掉se\n",
    "temp2 = se.difference_update(be)\n",
    "print(temp2)\n",
    "print(se) "
   ]
  },
  {
   "cell_type": "code",
   "execution_count": null,
   "metadata": {},
   "outputs": [],
   "source": [
    "#删除\n",
    "se = {11, 22, 33}\n",
    "se.discard(11)\n",
    "se.discard(44)  # 移除不存的元素不会报错\n",
    "print(se)\n",
    "\n",
    "se = {11, 22, 33}\n",
    "se.remove(11)\n",
    "se.remove(44)  # 移除不存的元素会报错\n",
    "print(se)\n",
    "\n",
    "se = {11, 22, 33}  # 移除末尾元素并把移除的元素赋给新值\n",
    "temp = se.pop()\n",
    "print(temp)  # 33\n",
    "print(se) # {11, 22}"
   ]
  },
  {
   "cell_type": "code",
   "execution_count": null,
   "metadata": {},
   "outputs": [],
   "source": [
    "#判断\n",
    "se = {11, 22, 33}\n",
    "be = {22}\n",
    "\n",
    "print(se.isdisjoint(be))        #False，判断是否不存在交集（有交集False，无交集True）\n",
    "print(se.issubset(be))          #False，判断se是否是be的子集合\n",
    "print(se.issuperset(be))        #True，判断se是否是be的父集合"
   ]
  },
  {
   "cell_type": "code",
   "execution_count": null,
   "metadata": {},
   "outputs": [],
   "source": [
    "#合并\n",
    "se = {11, 22, 33}\n",
    "be = {22}\n",
    "\n",
    "temp1 = se.symmetric_difference(be)  # 合并不同项，并赋新值\n",
    "print(temp1)\n",
    "print(se)   \n",
    "\n",
    "temp2 = se.symmetric_difference_update(be)  # 合并不同项，并更新自己\n",
    "print(temp2)    \n",
    "print(se)"
   ]
  },
  {
   "cell_type": "code",
   "execution_count": null,
   "metadata": {},
   "outputs": [],
   "source": [
    "#取并集\n",
    "se = {11, 22, 33}\n",
    "be = {22,44,55}\n",
    "\n",
    "temp=se.union(be)   #取并集，并赋新值\n",
    "print(se)       #{33, 11, 22}\n",
    "print(temp)     #{33, 22, 55, 11, 44}"
   ]
  },
  {
   "cell_type": "markdown",
   "metadata": {},
   "source": [
    "file文件读取\n",
    "对于新手而言，难以理解的部分\n",
    "Python open() 方法用于打开一个文件，并返回文件对象，在对文件进行处理过程都需要使用到这个函数，如果该文件无法被打开，会抛出 OSError。\n",
    "\n",
    "注意：使用 open() 方法一定要保证关闭文件对象，即调用 close() 方法。\n",
    "\n",
    "open() 函数常用形式是接收两个参数：文件名(file)和模式(mode)。\n",
    "open(file, mode='r')\n",
    "完整的语法格式为：open(file, mode='r', buffering=-1, encoding=None, errors=None, newline=None, closefd=True, opener=None)\n",
    "\n",
    "参数说明:\n",
    "file: 必需，文件路径（相对或者绝对路径）。\n",
    "mode: 可选，文件打开模式\n",
    "buffering: 设置缓冲\n",
    "encoding: 一般使用UTF-8\n",
    "errors: 报错级别\n",
    "newline: 区分换行符\n",
    "closefd: 传入的file参数类型\n",
    "opener:       资料来源：http://www.runoob.com/python3/python3-file-methods.html"
   ]
  },
  {
   "cell_type": "code",
   "execution_count": 22,
   "metadata": {},
   "outputs": [
    {
     "name": "stdout",
     "output_type": "stream",
     "text": [
      "python学习 咖喱 胡骞\n",
      "leetcode刷题 老表 陈焕森\n",
      "编程集训 孙超 小熊\n",
      "统计学 李奇峰 蓝昔\n",
      "ML项目实践 杨冰楠 孙涛\n",
      "高级算法梳理 于鸿飞 小雪\n",
      "基础算法梳理 sm1les 钱令武\n",
      "知乎小组 李严 黑桃\n",
      "学习群 咖喱 排骨\n",
      "\n",
      "<class 'str'>\n"
     ]
    }
   ],
   "source": [
    "#作业\n",
    "f=open('C:/Users/Administrator/Desktop/homework.txt','r',encoding='utf-8')\n",
    "line=f.read()\n",
    "print(line)\n",
    "print(type(line))"
   ]
  },
  {
   "cell_type": "code",
   "execution_count": 23,
   "metadata": {},
   "outputs": [
    {
     "name": "stdout",
     "output_type": "stream",
     "text": [
      "{'python学习': ['咖喱', '胡骞'], 'leetcode刷题': ['老表', '陈焕森'], '编程集训': ['孙超', '小熊'], '统计学': ['李奇峰', '蓝昔'], 'ML项目实践': ['杨冰楠', '孙涛'], '高级算法梳理': ['于鸿飞', '小雪'], '基础算法梳理': ['sm1les', '钱令武'], '知乎小组': ['李严', '黑桃'], '学习群': ['咖喱', '排骨']}\n",
      "有重复\n"
     ]
    }
   ],
   "source": [
    "dict = {}\n",
    "word=[]\n",
    "a=len(line)\n",
    "bag=0\n",
    "key=''\n",
    "str=''\n",
    "value=[]\n",
    "for i in range(a):                  \n",
    "    if line[i].isspace():           \n",
    "        b=len(word)                \n",
    "        for j in range(b):         \n",
    "            str = str+word[j]\n",
    "        word.clear()               \n",
    "        bag=+1                   \n",
    "        if bag==1:                \n",
    "            key=str                 \n",
    "            str=''                  \n",
    "        elif bag==2:               \n",
    "            value.append(str)       \n",
    "            str=''\n",
    "        elif bag==3:               \n",
    "            value.append(str)       \n",
    "            dict[key] = value      \n",
    "            key=''                  \n",
    "            str=''\n",
    "            value=[]\n",
    "            bag=0\n",
    "    else:                          \n",
    "        word.append(line[i])\n",
    "print (dict)\n",
    "f.close()\n",
    "\n",
    "#遍历字典\n",
    "for key in dict:\n",
    "    for i in range(2):\n",
    "        for key2 in dict:\n",
    "            for j in range(2):\n",
    "                if dict[key][i]==dict[key2][j]:\n",
    "                    cnt=1;\n",
    "if cnt==1:\n",
    "    print(\"有重复\")"
   ]
  },
  {
   "cell_type": "code",
   "execution_count": null,
   "metadata": {},
   "outputs": [],
   "source": []
  }
 ],
 "metadata": {
  "kernelspec": {
   "display_name": "Python 3",
   "language": "python",
   "name": "python3"
  },
  "language_info": {
   "codemirror_mode": {
    "name": "ipython",
    "version": 3
   },
   "file_extension": ".py",
   "mimetype": "text/x-python",
   "name": "python",
   "nbconvert_exporter": "python",
   "pygments_lexer": "ipython3",
   "version": "3.7.1"
  }
 },
 "nbformat": 4,
 "nbformat_minor": 2
}
